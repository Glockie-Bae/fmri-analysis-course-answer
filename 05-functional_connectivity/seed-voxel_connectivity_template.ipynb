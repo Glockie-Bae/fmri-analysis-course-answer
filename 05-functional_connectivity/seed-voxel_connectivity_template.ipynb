{
 "cells": [
  {
   "cell_type": "markdown",
   "metadata": {},
   "source": [
    "# Seed-voxel functional connectivity"
   ]
  },
  {
   "cell_type": "markdown",
   "metadata": {},
   "source": [
    "## Load libraries"
   ]
  },
  {
   "cell_type": "code",
   "execution_count": 1,
   "metadata": {},
   "outputs": [],
   "source": [
    "import numpy as np\n",
    "from nilearn import datasets\n",
    "from nilearn import input_data\n",
    "from nilearn.connectome import ConnectivityMeasure\n",
    "from nilearn import plotting"
   ]
  },
  {
   "cell_type": "markdown",
   "metadata": {},
   "source": [
    "## Load data"
   ]
  },
  {
   "cell_type": "code",
   "execution_count": 7,
   "metadata": {},
   "outputs": [
    {
     "name": "stdout",
     "output_type": "stream",
     "text": [
      "['C:\\\\Users\\\\Sorrow/nilearn_data']\n",
      "['F:\\\\_Sorrow\\\\PhD\\\\FMRI\\\\Datasets\\\\nilearn_data', 'F:\\\\_Sorrow\\\\PhD\\\\FMRI\\\\Datasets\\\\nilearn_data', 'C:\\\\Users\\\\Sorrow/nilearn_data']\n"
     ]
    }
   ],
   "source": [
    "print(datasets.get_data_dirs())\n",
    "import os\n",
    "# 设置 nilearn 下载路径\n",
    "os.environ['NILEARN_SHARED_DATA'] = r'F:\\_Sorrow\\PhD\\FMRI\\Datasets\\nilearn_data'\n",
    "os.environ['NILEARN_DATA'] = r'F:\\_Sorrow\\PhD\\FMRI\\Datasets\\nilearn_data'\n",
    "print(datasets.get_data_dirs())"
   ]
  },
  {
   "cell_type": "code",
   "execution_count": 9,
   "metadata": {},
   "outputs": [
    {
     "name": "stdout",
     "output_type": "stream",
     "text": [
      "\n",
      "Added README.md to F:\\_Sorrow\\PhD\\FMRI\\Datasets\\nilearn_data\n",
      "\n",
      "\n",
      "Dataset created in F:\\_Sorrow\\PhD\\FMRI\\Datasets\\nilearn_data\\development_fmri\n",
      "\n",
      "\n",
      "Added README.md to F:\\_Sorrow\\PhD\\FMRI\\Datasets\\nilearn_data\\development_fmri\n",
      "\n",
      "\n",
      "Dataset created in F:\\_Sorrow\\PhD\\FMRI\\Datasets\\nilearn_data\\development_fmri\\development_fmri\n",
      "\n",
      "Downloading data from https://osf.io/yr3av/download ...\n"
     ]
    },
    {
     "name": "stderr",
     "output_type": "stream",
     "text": [
      " ...done. (8 seconds, 0 min)\n"
     ]
    },
    {
     "name": "stdout",
     "output_type": "stream",
     "text": [
      "Downloading data from https://osf.io/download/5c8ff3df4712b400183b7092/ ...\n"
     ]
    },
    {
     "name": "stderr",
     "output_type": "stream",
     "text": [
      " ...done. (3 seconds, 0 min)\n"
     ]
    },
    {
     "name": "stdout",
     "output_type": "stream",
     "text": [
      "Downloading data from https://osf.io/download/5c8ff3e04712b400193b5bdf/ ...\n"
     ]
    },
    {
     "name": "stderr",
     "output_type": "stream",
     "text": [
      " ...done. (3 seconds, 0 min)\n"
     ]
    }
   ],
   "source": [
    "# Load fMRI data\n",
    "data_dir = r'F:\\_Sorrow\\PhD\\FMRI\\Datasets\\nilearn_data'\n",
    "dataset = datasets.fetch_development_fmri(n_subjects=1, data_dir=data_dir)\n",
    "func_filename = dataset.func[0]\n",
    "confounds_filename = dataset.confounds[0]"
   ]
  },
  {
   "cell_type": "markdown",
   "metadata": {},
   "source": [
    "## Create a seed"
   ]
  },
  {
   "cell_type": "code",
   "execution_count": 10,
   "metadata": {},
   "outputs": [],
   "source": [
    "#(0, -52, 18) 对应 后扣带皮层（Posterior Cingulate Cortex, PCC）\n",
    "pcc_coords = [(0, -52, 18)]\n",
    "seed_masker = input_data.NiftiSpheresMasker(\n",
    "    pcc_coords, radius=8,\n",
    "    detrend=True, standardize=True)"
   ]
  },
  {
   "cell_type": "markdown",
   "metadata": {},
   "source": [
    "## Extract timeseries from a seed"
   ]
  },
  {
   "cell_type": "code",
   "execution_count": 11,
   "metadata": {},
   "outputs": [
    {
     "name": "stdout",
     "output_type": "stream",
     "text": [
      "F:\\_Sorrow\\PhD\\FMRI\\Datasets\\nilearn_data\\development_fmri\\development_fmri\\sub-pixar123_task-pixar_space-MNI152NLin2009cAsym_desc-preproc_bold.nii.gz\n"
     ]
    }
   ],
   "source": [
    "print(func_filename)\n",
    "# 去除脑动等杂讯信号，得到ROI区域干净的fmri信息\n",
    "seed_timeseries = seed_masker.fit_transform(func_filename,\n",
    "                                             confounds=confounds_filename)\n",
    "seed_timeseries = np.squeeze(seed_timeseries)"
   ]
  },
  {
   "cell_type": "markdown",
   "metadata": {},
   "source": [
    "## Estract timeseries from the whole brain"
   ]
  },
  {
   "cell_type": "code",
   "execution_count": 12,
   "metadata": {},
   "outputs": [],
   "source": [
    "#提取全脑的BOLD信号\n",
    "brain_masker = input_data.NiftiMasker(\n",
    "    smoothing_fwhm=8,\n",
    "    detrend=True, standardize=True,\n",
    "    memory='nilearn_cache', memory_level=1, verbose=0)\n",
    "\n",
    "brain_timeseries = brain_masker.fit_transform(func_filename,\n",
    "                                               confounds=confounds_filename)"
   ]
  },
  {
   "cell_type": "code",
   "execution_count": 13,
   "metadata": {},
   "outputs": [
    {
     "name": "stdout",
     "output_type": "stream",
     "text": [
      "(168,)\n",
      "(168, 32504)\n"
     ]
    }
   ],
   "source": [
    "# Print shape of seed time-series\n",
    "print(seed_timeseries.shape)\n",
    "\n",
    "# Print shape of brain time-series\n",
    "print(brain_timeseries.shape)"
   ]
  },
  {
   "cell_type": "markdown",
   "metadata": {},
   "source": [
    "## Calculate seed to voxel correlations"
   ]
  },
  {
   "cell_type": "code",
   "execution_count": 14,
   "metadata": {},
   "outputs": [],
   "source": [
    "# Calculate Pearson product-moment correlation coefficient between seed and all voxel trime-series\n",
    "from scipy import stats\n",
    "\n",
    "corr_map = np.zeros(brain_timeseries.shape[1])\n",
    "\n",
    "for i in range(brain_timeseries.shape[1]):\n",
    "    corr_map[i] = stats.pearsonr(seed_timeseries, brain_timeseries[:,i])[0]"
   ]
  },
  {
   "cell_type": "markdown",
   "metadata": {},
   "source": [
    "## Plot correlation using statistical map plot"
   ]
  },
  {
   "cell_type": "code",
   "execution_count": 15,
   "metadata": {},
   "outputs": [
    {
     "data": {
      "image/png": "[encoded data removed]",
      "text/plain": [
       "<Figure size 730x350 with 5 Axes>"
      ]
     },
     "metadata": {},
     "output_type": "display_data"
    }
   ],
   "source": [
    "seed_to_voxel_correlations_img = brain_masker.inverse_transform(corr_map.T)\n",
    "\n",
    "# Plot correlation map using plot_stat_map\n",
    "# 绘制相关系数图\n",
    "display = plotting.plot_stat_map(\n",
    "    seed_to_voxel_correlations_img,\n",
    "    threshold=0.3,          # 只显示 r > 0.3 的区域，可根据需求调整\n",
    "    display_mode='ortho',   # 三个正交切面\n",
    "    cut_coords=(0, -52, 18),# PCC seed 坐标，可根据实际 seed_coords 调整\n",
    "    title='Seed-to-Voxel Correlation (PCC)'\n",
    ")\n",
    "\n",
    "# Add seed ROI marker with display.add_markers()\n",
    "# 在图上标出 seed ROI\n",
    "display.add_markers(pcc_coords, marker_color='red', marker_size=100)\n",
    "\n",
    "# 显示图像\n",
    "plotting.show()\n"
   ]
  },
  {
   "cell_type": "code",
   "execution_count": null,
   "metadata": {},
   "outputs": [],
   "source": []
  }
 ],
 "metadata": {
  "kernelspec": {
   "display_name": "Python 3 (ipykernel)",
   "language": "python",
   "name": "python3"
  },
  "language_info": {
   "codemirror_mode": {
    "name": "ipython",
    "version": 3
   },
   "file_extension": ".py",
   "mimetype": "text/x-python",
   "name": "python",
   "nbconvert_exporter": "python",
   "pygments_lexer": "ipython3",
   "version": "3.9.13"
  },
  "toc": {
   "base_numbering": 1,
   "nav_menu": {},
   "number_sections": true,
   "sideBar": true,
   "skip_h1_title": false,
   "title_cell": "Table of Contents",
   "title_sidebar": "Contents",
   "toc_cell": false,
   "toc_position": {},
   "toc_section_display": true,
   "toc_window_display": false
  },
  "varInspector": {
   "cols": {
    "lenName": 16,
    "lenType": 16,
    "lenVar": 40
   },
   "kernels_config": {
    "python": {
     "delete_cmd_postfix": "",
     "delete_cmd_prefix": "del ",
     "library": "var_list.py",
     "varRefreshCmd": "print(var_dic_list())"
    },
    "r": {
     "delete_cmd_postfix": ") ",
     "delete_cmd_prefix": "rm(",
     "library": "var_list.r",
     "varRefreshCmd": "cat(var_dic_list()) "
    }
   },
   "types_to_exclude": [
    "module",
    "function",
    "builtin_function_or_method",
    "instance",
    "_Feature"
   ],
   "window_display": false
  },
  "widgets": {
   "application/vnd.jupyter.widget-state+json": {
    "state": {},
    "version_major": 2,
    "version_minor": 0
   }
  }
 },
 "nbformat": 4,
 "nbformat_minor": 4
}
